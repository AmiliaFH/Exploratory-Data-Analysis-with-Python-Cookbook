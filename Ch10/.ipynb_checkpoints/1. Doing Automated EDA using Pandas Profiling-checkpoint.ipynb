{
 "cells": [
  {
   "cell_type": "markdown",
   "id": "2dbc33b1",
   "metadata": {},
   "source": [
    "#### Import relevant libraries"
   ]
  },
  {
   "cell_type": "code",
   "execution_count": null,
   "id": "0ae67507",
   "metadata": {},
   "outputs": [],
   "source": [
    "import pandas as pd\n",
    "from ydata_profiling import ProfileReport"
   ]
  },
  {
   "cell_type": "markdown",
   "id": "a2050fe1",
   "metadata": {},
   "source": [
    "#### Load dataset"
   ]
  },
  {
   "cell_type": "code",
   "execution_count": null,
   "id": "3a02fac1",
   "metadata": {},
   "outputs": [],
   "source": [
    "marketing_data = pd.read_csv(\"data/marketing_campaign.csv\")"
   ]
  },
  {
   "cell_type": "markdown",
   "id": "128c9ecd",
   "metadata": {},
   "source": [
    "#### Generate Pandas Profiling Report"
   ]
  },
  {
   "cell_type": "code",
   "execution_count": null,
   "id": "1f556097",
   "metadata": {
    "scrolled": true
   },
   "outputs": [],
   "source": [
    "profile = ProfileReport(marketing_data)"
   ]
  },
  {
   "cell_type": "code",
   "execution_count": null,
   "id": "563ee402",
   "metadata": {},
   "outputs": [],
   "source": [
    "profile.to_file(\"Reports/profile_output.html\")"
   ]
  },
  {
   "cell_type": "markdown",
   "id": "f9c26295",
   "metadata": {},
   "source": [
    "#### Generate Pandas Profiling Report using the minimal configuration"
   ]
  },
  {
   "cell_type": "code",
   "execution_count": null,
   "id": "bdf17c4b",
   "metadata": {},
   "outputs": [],
   "source": [
    "profile_min = ProfileReport(marketing_data, minimal=True)"
   ]
  },
  {
   "cell_type": "code",
   "execution_count": null,
   "id": "2893804c",
   "metadata": {},
   "outputs": [],
   "source": [
    "profile_min.to_file(\"Reports/profile_minimal_output.html\")"
   ]
  },
  {
   "cell_type": "markdown",
   "id": "32043140",
   "metadata": {},
   "source": [
    "#### Generate Pandas Profiling Report with metadata included"
   ]
  },
  {
   "cell_type": "code",
   "execution_count": null,
   "id": "95e33dc4",
   "metadata": {},
   "outputs": [],
   "source": [
    "profile_meta = ProfileReport(\n",
    "    marketing_data, \n",
    "    title=\"Customer Personality Analysis Data\",\n",
    "    dataset={\n",
    "        \"description\": \"This data contains marketing and sales data of a company's customers. It is useful for identifying the most ideal customers to target.\",\n",
    "        \"url\": \"https://www.kaggle.com/datasets/imakash3011/customer-personality-analysis.\",\n",
    "    },\n",
    "    variables= {\n",
    "        \"descriptions\": {\n",
    "            \"ID\": \"Customer's unique identifier\",\n",
    "            \"Year_Birth\": \"Customer's birth year\",\n",
    "            \"Education\": \"Customer's education level\",\n",
    "            \"Marital_Status\": \"Customer's marital status\",\n",
    "            \"Income\": \"Customer's yearly household income\",\n",
    "            \"Kidhome\": \"Number of children in customer's household\",\n",
    "            \"Teenhome\": \"Number of teenagers in customer's household\",\n",
    "            \"Dt_Customer\": \"Date of customer's enrollment with the company\",\n",
    "            \"Recency\": \"Number of days since customer's last purchase\",\n",
    "            \"Complain\": \"1 if the customer complained in the last 2 years, 0 otherwise\",\n",
    "            \"MntWines\": \"Amount spent on wine in last 2 years\",\n",
    "            \"MntFruits\": \"Amount spent on fruits in last 2 years\",\n",
    "            \"MntMeatProducts\": \"Amount spent on meat in last 2 years\",\n",
    "            \"MntFishProducts\": \"Amount spent on fish in last 2 years\",\n",
    "            \"MntSweetProducts\": \"Amount spent on sweets in last 2 years\",\n",
    "            \"MntGoldProds\": \"Amount spent on gold in last 2 years\",\n",
    "\n",
    "        }\n",
    "    }\n",
    ")\n",
    "\n",
    "\n",
    "profile_meta.to_file(\"Reports/profile_with_metadata.html\")"
   ]
  }
 ],
 "metadata": {
  "kernelspec": {
   "display_name": "Python 3 (ipykernel)",
   "language": "python",
   "name": "python3"
  },
  "language_info": {
   "codemirror_mode": {
    "name": "ipython",
    "version": 3
   },
   "file_extension": ".py",
   "mimetype": "text/x-python",
   "name": "python",
   "nbconvert_exporter": "python",
   "pygments_lexer": "ipython3",
   "version": "3.7.1"
  }
 },
 "nbformat": 4,
 "nbformat_minor": 5
}
