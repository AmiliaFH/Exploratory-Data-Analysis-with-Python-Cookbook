{
 "cells": [
  {
   "cell_type": "markdown",
   "id": "2dbc33b1",
   "metadata": {},
   "source": [
    "#### Import relevant libraries"
   ]
  },
  {
   "cell_type": "code",
   "execution_count": 1,
   "id": "0ae67507",
   "metadata": {},
   "outputs": [],
   "source": [
    "import numpy as np\n",
    "import pandas as pd"
   ]
  },
  {
   "cell_type": "markdown",
   "id": "a2050fe1",
   "metadata": {},
   "source": [
    "#### Load dataset and subset columns"
   ]
  },
  {
   "cell_type": "code",
   "execution_count": 2,
   "id": "3a02fac1",
   "metadata": {},
   "outputs": [],
   "source": [
    "houseprice_data = pd.read_csv(\"data/HousingPricesData.csv\")"
   ]
  },
  {
   "cell_type": "code",
   "execution_count": 3,
   "id": "379e01f9",
   "metadata": {},
   "outputs": [],
   "source": [
    "houseprice_data = houseprice_data[['Zip','Price', 'Area', 'Room']]"
   ]
  },
  {
   "cell_type": "markdown",
   "id": "128c9ecd",
   "metadata": {},
   "source": [
    "#### Inspect first 5 rows and data types of the dataset"
   ]
  },
  {
   "cell_type": "code",
   "execution_count": 4,
   "id": "1f556097",
   "metadata": {
    "scrolled": true
   },
   "outputs": [
    {
     "data": {
      "text/html": [
       "<div>\n",
       "<style scoped>\n",
       "    .dataframe tbody tr th:only-of-type {\n",
       "        vertical-align: middle;\n",
       "    }\n",
       "\n",
       "    .dataframe tbody tr th {\n",
       "        vertical-align: top;\n",
       "    }\n",
       "\n",
       "    .dataframe thead th {\n",
       "        text-align: right;\n",
       "    }\n",
       "</style>\n",
       "<table border=\"1\" class=\"dataframe\">\n",
       "  <thead>\n",
       "    <tr style=\"text-align: right;\">\n",
       "      <th></th>\n",
       "      <th>Zip</th>\n",
       "      <th>Price</th>\n",
       "      <th>Area</th>\n",
       "      <th>Room</th>\n",
       "    </tr>\n",
       "  </thead>\n",
       "  <tbody>\n",
       "    <tr>\n",
       "      <th>0</th>\n",
       "      <td>1091 CR</td>\n",
       "      <td>685000.0</td>\n",
       "      <td>64</td>\n",
       "      <td>3</td>\n",
       "    </tr>\n",
       "    <tr>\n",
       "      <th>1</th>\n",
       "      <td>1059 EL</td>\n",
       "      <td>475000.0</td>\n",
       "      <td>60</td>\n",
       "      <td>3</td>\n",
       "    </tr>\n",
       "    <tr>\n",
       "      <th>2</th>\n",
       "      <td>1097 SM</td>\n",
       "      <td>850000.0</td>\n",
       "      <td>109</td>\n",
       "      <td>4</td>\n",
       "    </tr>\n",
       "    <tr>\n",
       "      <th>3</th>\n",
       "      <td>1060 TH</td>\n",
       "      <td>580000.0</td>\n",
       "      <td>128</td>\n",
       "      <td>6</td>\n",
       "    </tr>\n",
       "    <tr>\n",
       "      <th>4</th>\n",
       "      <td>1036 KN</td>\n",
       "      <td>720000.0</td>\n",
       "      <td>138</td>\n",
       "      <td>5</td>\n",
       "    </tr>\n",
       "  </tbody>\n",
       "</table>\n",
       "</div>"
      ],
      "text/plain": [
       "       Zip     Price  Area  Room\n",
       "0  1091 CR  685000.0    64     3\n",
       "1  1059 EL  475000.0    60     3\n",
       "2  1097 SM  850000.0   109     4\n",
       "3  1060 TH  580000.0   128     6\n",
       "4  1036 KN  720000.0   138     5"
      ]
     },
     "execution_count": 4,
     "metadata": {},
     "output_type": "execute_result"
    }
   ],
   "source": [
    "houseprice_data.head()"
   ]
  },
  {
   "cell_type": "code",
   "execution_count": 5,
   "id": "bdf17c4b",
   "metadata": {},
   "outputs": [
    {
     "data": {
      "text/plain": [
       "(924, 4)"
      ]
     },
     "execution_count": 5,
     "metadata": {},
     "output_type": "execute_result"
    }
   ],
   "source": [
    "houseprice_data.shape"
   ]
  },
  {
   "cell_type": "markdown",
   "id": "3b5dcaa0",
   "metadata": {},
   "source": [
    "#### Identify Missing Values"
   ]
  },
  {
   "cell_type": "code",
   "execution_count": 6,
   "id": "b63f1c2f",
   "metadata": {},
   "outputs": [
    {
     "data": {
      "text/plain": [
       "Zip      0\n",
       "Price    4\n",
       "Area     0\n",
       "Room     0\n",
       "dtype: int64"
      ]
     },
     "execution_count": 6,
     "metadata": {},
     "output_type": "execute_result"
    }
   ],
   "source": [
    "houseprice_data.isnull().sum()"
   ]
  },
  {
   "cell_type": "markdown",
   "id": "cdc34391",
   "metadata": {},
   "source": [
    "#### View rows with Missing Values"
   ]
  },
  {
   "cell_type": "code",
   "execution_count": 7,
   "id": "a83d0309",
   "metadata": {},
   "outputs": [
    {
     "data": {
      "text/html": [
       "<div>\n",
       "<style scoped>\n",
       "    .dataframe tbody tr th:only-of-type {\n",
       "        vertical-align: middle;\n",
       "    }\n",
       "\n",
       "    .dataframe tbody tr th {\n",
       "        vertical-align: top;\n",
       "    }\n",
       "\n",
       "    .dataframe thead th {\n",
       "        text-align: right;\n",
       "    }\n",
       "</style>\n",
       "<table border=\"1\" class=\"dataframe\">\n",
       "  <thead>\n",
       "    <tr style=\"text-align: right;\">\n",
       "      <th></th>\n",
       "      <th>Zip</th>\n",
       "      <th>Price</th>\n",
       "      <th>Area</th>\n",
       "      <th>Room</th>\n",
       "    </tr>\n",
       "  </thead>\n",
       "  <tbody>\n",
       "    <tr>\n",
       "      <th>73</th>\n",
       "      <td>1017 VV</td>\n",
       "      <td>NaN</td>\n",
       "      <td>147</td>\n",
       "      <td>3</td>\n",
       "    </tr>\n",
       "    <tr>\n",
       "      <th>321</th>\n",
       "      <td>1067 HP</td>\n",
       "      <td>NaN</td>\n",
       "      <td>366</td>\n",
       "      <td>12</td>\n",
       "    </tr>\n",
       "    <tr>\n",
       "      <th>610</th>\n",
       "      <td>1019 HT</td>\n",
       "      <td>NaN</td>\n",
       "      <td>107</td>\n",
       "      <td>3</td>\n",
       "    </tr>\n",
       "    <tr>\n",
       "      <th>727</th>\n",
       "      <td>1013 CK</td>\n",
       "      <td>NaN</td>\n",
       "      <td>81</td>\n",
       "      <td>3</td>\n",
       "    </tr>\n",
       "  </tbody>\n",
       "</table>\n",
       "</div>"
      ],
      "text/plain": [
       "         Zip  Price  Area  Room\n",
       "73   1017 VV    NaN   147     3\n",
       "321  1067 HP    NaN   366    12\n",
       "610  1019 HT    NaN   107     3\n",
       "727  1013 CK    NaN    81     3"
      ]
     },
     "execution_count": 7,
     "metadata": {},
     "output_type": "execute_result"
    }
   ],
   "source": [
    "houseprice_data[houseprice_data['Price'].isnull()].head()"
   ]
  },
  {
   "cell_type": "markdown",
   "id": "a1a48d7d",
   "metadata": {},
   "source": [
    "#### Compute Replacement values"
   ]
  },
  {
   "cell_type": "code",
   "execution_count": 8,
   "id": "52a03839",
   "metadata": {},
   "outputs": [
    {
     "name": "stdout",
     "output_type": "stream",
     "text": [
      "mean:  622065.4195652173 median:  467000.0 mode:  1075 XR\n"
     ]
    }
   ],
   "source": [
    "mean = houseprice_data['Price'].mean()\n",
    "median = houseprice_data['Price'].median()\n",
    "mode = houseprice_data['Zip'].mode()[0]\n",
    "print(\"mean: \",mean,\"median: \" ,median,\"mode: \", mode)"
   ]
  },
  {
   "cell_type": "markdown",
   "id": "8b09836b",
   "metadata": {},
   "source": [
    "#### Replace Missing Values with the Mean"
   ]
  },
  {
   "cell_type": "code",
   "execution_count": 9,
   "id": "33f56e42",
   "metadata": {},
   "outputs": [
    {
     "data": {
      "text/plain": [
       "Zip                0\n",
       "Price              4\n",
       "Area               0\n",
       "Room               0\n",
       "price_with_mean    0\n",
       "dtype: int64"
      ]
     },
     "execution_count": 9,
     "metadata": {},
     "output_type": "execute_result"
    }
   ],
   "source": [
    "houseprice_data['price_with_mean'] = houseprice_data['Price'].fillna(mean)\n",
    "houseprice_data.isnull().sum()"
   ]
  },
  {
   "cell_type": "markdown",
   "id": "71f729b7",
   "metadata": {},
   "source": [
    "#### Replace Missing Values with the Median"
   ]
  },
  {
   "cell_type": "code",
   "execution_count": 10,
   "id": "582a6045",
   "metadata": {},
   "outputs": [
    {
     "data": {
      "text/plain": [
       "Zip                  0\n",
       "Price                4\n",
       "Area                 0\n",
       "Room                 0\n",
       "price_with_mean      0\n",
       "price_with_median    0\n",
       "dtype: int64"
      ]
     },
     "execution_count": 10,
     "metadata": {},
     "output_type": "execute_result"
    }
   ],
   "source": [
    "houseprice_data['price_with_median'] = houseprice_data['Price'].fillna(median)\n",
    "houseprice_data.isnull().sum()"
   ]
  },
  {
   "cell_type": "markdown",
   "id": "d30ba2c6",
   "metadata": {},
   "source": [
    "#### Perform Group Replacement of Missing Values"
   ]
  },
  {
   "cell_type": "code",
   "execution_count": 11,
   "id": "172b8677",
   "metadata": {},
   "outputs": [
    {
     "name": "stderr",
     "output_type": "stream",
     "text": [
      "C:\\Users\\ay_de\\AppData\\Roaming\\Python\\Python37\\site-packages\\ipykernel_launcher.py:1: RuntimeWarning: Mean of empty slice\n",
      "  \"\"\"Entry point for launching an IPython kernel.\n",
      "c:\\users\\ay_de\\appdata\\local\\programs\\python\\python37\\lib\\site-packages\\numpy\\lib\\nanfunctions.py:1114: RuntimeWarning: All-NaN slice encountered\n",
      "  overwrite_input=overwrite_input)\n"
     ]
    }
   ],
   "source": [
    "houseprice_data['group_mean'] = houseprice_data.groupby('Room')['Price'].transform(lambda x: np.nanmean(x))\n",
    "houseprice_data['group_median'] = houseprice_data.groupby('Room')['Price'].transform(lambda x: np.nanmedian(x))"
   ]
  },
  {
   "cell_type": "markdown",
   "id": "2f78b11b",
   "metadata": {},
   "source": [
    "#### View all replacements"
   ]
  },
  {
   "cell_type": "code",
   "execution_count": 12,
   "id": "f40dddd4",
   "metadata": {},
   "outputs": [
    {
     "data": {
      "text/html": [
       "<div>\n",
       "<style scoped>\n",
       "    .dataframe tbody tr th:only-of-type {\n",
       "        vertical-align: middle;\n",
       "    }\n",
       "\n",
       "    .dataframe tbody tr th {\n",
       "        vertical-align: top;\n",
       "    }\n",
       "\n",
       "    .dataframe thead th {\n",
       "        text-align: right;\n",
       "    }\n",
       "</style>\n",
       "<table border=\"1\" class=\"dataframe\">\n",
       "  <thead>\n",
       "    <tr style=\"text-align: right;\">\n",
       "      <th></th>\n",
       "      <th>Zip</th>\n",
       "      <th>Price</th>\n",
       "      <th>Area</th>\n",
       "      <th>Room</th>\n",
       "      <th>price_with_mean</th>\n",
       "      <th>price_with_median</th>\n",
       "      <th>group_mean</th>\n",
       "      <th>group_median</th>\n",
       "    </tr>\n",
       "  </thead>\n",
       "  <tbody>\n",
       "    <tr>\n",
       "      <th>73</th>\n",
       "      <td>1017 VV</td>\n",
       "      <td>NaN</td>\n",
       "      <td>147</td>\n",
       "      <td>3</td>\n",
       "      <td>622065.419565</td>\n",
       "      <td>467000.0</td>\n",
       "      <td>512416.39697</td>\n",
       "      <td>450000.0</td>\n",
       "    </tr>\n",
       "    <tr>\n",
       "      <th>321</th>\n",
       "      <td>1067 HP</td>\n",
       "      <td>NaN</td>\n",
       "      <td>366</td>\n",
       "      <td>12</td>\n",
       "      <td>622065.419565</td>\n",
       "      <td>467000.0</td>\n",
       "      <td>NaN</td>\n",
       "      <td>NaN</td>\n",
       "    </tr>\n",
       "    <tr>\n",
       "      <th>610</th>\n",
       "      <td>1019 HT</td>\n",
       "      <td>NaN</td>\n",
       "      <td>107</td>\n",
       "      <td>3</td>\n",
       "      <td>622065.419565</td>\n",
       "      <td>467000.0</td>\n",
       "      <td>512416.39697</td>\n",
       "      <td>450000.0</td>\n",
       "    </tr>\n",
       "    <tr>\n",
       "      <th>727</th>\n",
       "      <td>1013 CK</td>\n",
       "      <td>NaN</td>\n",
       "      <td>81</td>\n",
       "      <td>3</td>\n",
       "      <td>622065.419565</td>\n",
       "      <td>467000.0</td>\n",
       "      <td>512416.39697</td>\n",
       "      <td>450000.0</td>\n",
       "    </tr>\n",
       "  </tbody>\n",
       "</table>\n",
       "</div>"
      ],
      "text/plain": [
       "         Zip  Price  Area  Room  price_with_mean  price_with_median  \\\n",
       "73   1017 VV    NaN   147     3    622065.419565           467000.0   \n",
       "321  1067 HP    NaN   366    12    622065.419565           467000.0   \n",
       "610  1019 HT    NaN   107     3    622065.419565           467000.0   \n",
       "727  1013 CK    NaN    81     3    622065.419565           467000.0   \n",
       "\n",
       "       group_mean  group_median  \n",
       "73   512416.39697      450000.0  \n",
       "321           NaN           NaN  \n",
       "610  512416.39697      450000.0  \n",
       "727  512416.39697      450000.0  "
      ]
     },
     "execution_count": 12,
     "metadata": {},
     "output_type": "execute_result"
    }
   ],
   "source": [
    "houseprice_data[houseprice_data['Price'].isnull()]"
   ]
  }
 ],
 "metadata": {
  "kernelspec": {
   "display_name": "Python 3",
   "language": "python",
   "name": "python3"
  },
  "language_info": {
   "codemirror_mode": {
    "name": "ipython",
    "version": 3
   },
   "file_extension": ".py",
   "mimetype": "text/x-python",
   "name": "python",
   "nbconvert_exporter": "python",
   "pygments_lexer": "ipython3",
   "version": "3.7.1"
  }
 },
 "nbformat": 4,
 "nbformat_minor": 5
}
