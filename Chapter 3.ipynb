{
 "cells": [
  {
   "cell_type": "code",
   "execution_count": 1,
   "metadata": {
    "collapsed": true
   },
   "outputs": [],
   "source": [
    "import re\n",
    "import itertools\n",
    "import numpy as np\n",
    "import pandas as pd\n",
    "from scipy.stats import skew, normaltest, probplot\n",
    "\n",
    "import impyute as impy\n",
    "from sklearn.experimental import enable_iterative_imputer\n",
    "from sklearn.impute import KNNImputer, IterativeImputer\n",
    "from sklearn.preprocessing import MinMaxScaler\n",
    "\n",
    "import seaborn as sns\n",
    "import matplotlib.pyplot as plt\n",
    "import matplotlib\n",
    "\n",
    "%matplotlib inline\n",
    "matplotlib.rcParams['figure.figsize'] = [15,12]"
   ]
  },
  {
   "cell_type": "code",
   "execution_count": 2,
   "metadata": {
    "scrolled": false
   },
   "outputs": [
    {
     "data": {
      "text/html": [
       "<div>\n",
       "<style scoped>\n",
       "    .dataframe tbody tr th:only-of-type {\n",
       "        vertical-align: middle;\n",
       "    }\n",
       "\n",
       "    .dataframe tbody tr th {\n",
       "        vertical-align: top;\n",
       "    }\n",
       "\n",
       "    .dataframe thead th {\n",
       "        text-align: right;\n",
       "    }\n",
       "</style>\n",
       "<table border=\"1\" class=\"dataframe\">\n",
       "  <thead>\n",
       "    <tr style=\"text-align: right;\">\n",
       "      <th></th>\n",
       "      <th>0</th>\n",
       "      <th>1</th>\n",
       "      <th>2</th>\n",
       "      <th>3</th>\n",
       "      <th>4</th>\n",
       "    </tr>\n",
       "  </thead>\n",
       "  <tbody>\n",
       "    <tr>\n",
       "      <th>Suburb</th>\n",
       "      <td>Abbotsford</td>\n",
       "      <td>Abbotsford</td>\n",
       "      <td>Abbotsford</td>\n",
       "      <td>Abbotsford</td>\n",
       "      <td>Abbotsford</td>\n",
       "    </tr>\n",
       "    <tr>\n",
       "      <th>Address</th>\n",
       "      <td>68 Studley St</td>\n",
       "      <td>85 Turner St</td>\n",
       "      <td>25 Bloomburg St</td>\n",
       "      <td>18/659 Victoria St</td>\n",
       "      <td>5 Charles St</td>\n",
       "    </tr>\n",
       "    <tr>\n",
       "      <th>Rooms</th>\n",
       "      <td>2</td>\n",
       "      <td>2</td>\n",
       "      <td>2</td>\n",
       "      <td>3</td>\n",
       "      <td>3</td>\n",
       "    </tr>\n",
       "    <tr>\n",
       "      <th>Type</th>\n",
       "      <td>h</td>\n",
       "      <td>h</td>\n",
       "      <td>h</td>\n",
       "      <td>u</td>\n",
       "      <td>h</td>\n",
       "    </tr>\n",
       "    <tr>\n",
       "      <th>Price</th>\n",
       "      <td>-9999.0</td>\n",
       "      <td>1480000.0</td>\n",
       "      <td>1035000.0</td>\n",
       "      <td>-9999.0</td>\n",
       "      <td>1465000.0</td>\n",
       "    </tr>\n",
       "    <tr>\n",
       "      <th>Method</th>\n",
       "      <td>SS</td>\n",
       "      <td>S</td>\n",
       "      <td>S</td>\n",
       "      <td>VB</td>\n",
       "      <td>SP</td>\n",
       "    </tr>\n",
       "    <tr>\n",
       "      <th>SellerG</th>\n",
       "      <td>Jellis</td>\n",
       "      <td>Biggin</td>\n",
       "      <td>Biggin</td>\n",
       "      <td>Rounds</td>\n",
       "      <td>Biggin</td>\n",
       "    </tr>\n",
       "    <tr>\n",
       "      <th>Date</th>\n",
       "      <td>3/09/2016</td>\n",
       "      <td>3/12/2016</td>\n",
       "      <td>4/02/2016</td>\n",
       "      <td>4/02/2016</td>\n",
       "      <td>4/03/2017</td>\n",
       "    </tr>\n",
       "    <tr>\n",
       "      <th>Distance</th>\n",
       "      <td>2.5</td>\n",
       "      <td>2.5</td>\n",
       "      <td>2.5</td>\n",
       "      <td>2.5</td>\n",
       "      <td>2.5</td>\n",
       "    </tr>\n",
       "    <tr>\n",
       "      <th>Postcode</th>\n",
       "      <td>3067.0</td>\n",
       "      <td>3067.0</td>\n",
       "      <td>3067.0</td>\n",
       "      <td>3067.0</td>\n",
       "      <td>3067.0</td>\n",
       "    </tr>\n",
       "    <tr>\n",
       "      <th>Bedroom2</th>\n",
       "      <td>2.0</td>\n",
       "      <td>2.0</td>\n",
       "      <td>2.0</td>\n",
       "      <td>3.0</td>\n",
       "      <td>3.0</td>\n",
       "    </tr>\n",
       "    <tr>\n",
       "      <th>Bathroom</th>\n",
       "      <td>1.0</td>\n",
       "      <td>1.0</td>\n",
       "      <td>1.0</td>\n",
       "      <td>2.0</td>\n",
       "      <td>2.0</td>\n",
       "    </tr>\n",
       "    <tr>\n",
       "      <th>Car</th>\n",
       "      <td>1.0</td>\n",
       "      <td>1.0</td>\n",
       "      <td>0.0</td>\n",
       "      <td>1.0</td>\n",
       "      <td>0.0</td>\n",
       "    </tr>\n",
       "    <tr>\n",
       "      <th>Landsize</th>\n",
       "      <td>126.0</td>\n",
       "      <td>202.0</td>\n",
       "      <td>156.0</td>\n",
       "      <td>0.0</td>\n",
       "      <td>134.0</td>\n",
       "    </tr>\n",
       "    <tr>\n",
       "      <th>BuildingArea</th>\n",
       "      <td>NaN</td>\n",
       "      <td>NaN</td>\n",
       "      <td>79.0</td>\n",
       "      <td>NaN</td>\n",
       "      <td>150.0</td>\n",
       "    </tr>\n",
       "    <tr>\n",
       "      <th>YearBuilt</th>\n",
       "      <td>NaN</td>\n",
       "      <td>NaN</td>\n",
       "      <td>1900.0</td>\n",
       "      <td>NaN</td>\n",
       "      <td>1900.0</td>\n",
       "    </tr>\n",
       "    <tr>\n",
       "      <th>CouncilArea</th>\n",
       "      <td>Yarra City Council</td>\n",
       "      <td>Yarra City Council</td>\n",
       "      <td>Yarra City Council</td>\n",
       "      <td>Yarra City Council</td>\n",
       "      <td>NaN</td>\n",
       "    </tr>\n",
       "    <tr>\n",
       "      <th>Lattitude</th>\n",
       "      <td>-37.8014</td>\n",
       "      <td>-37.7996</td>\n",
       "      <td>-37.8079</td>\n",
       "      <td>-37.8114</td>\n",
       "      <td>-37.8093</td>\n",
       "    </tr>\n",
       "    <tr>\n",
       "      <th>Longtitude</th>\n",
       "      <td>144.9958</td>\n",
       "      <td>144.9984</td>\n",
       "      <td>144.9934</td>\n",
       "      <td>145.0116</td>\n",
       "      <td>144.9944</td>\n",
       "    </tr>\n",
       "    <tr>\n",
       "      <th>Regionname</th>\n",
       "      <td>Northern Metropolitan</td>\n",
       "      <td>Northern Metropolitan</td>\n",
       "      <td>Northern Metropolitan</td>\n",
       "      <td>Northern Metropolitan</td>\n",
       "      <td>Northern Metropolitan</td>\n",
       "    </tr>\n",
       "    <tr>\n",
       "      <th>Propertycount</th>\n",
       "      <td>4019.0</td>\n",
       "      <td>4019.0</td>\n",
       "      <td>4019.0</td>\n",
       "      <td>4019.0</td>\n",
       "      <td>4019.0</td>\n",
       "    </tr>\n",
       "  </tbody>\n",
       "</table>\n",
       "</div>"
      ],
      "text/plain": [
       "                                   0                      1  \\\n",
       "Suburb                    Abbotsford             Abbotsford   \n",
       "Address                68 Studley St           85 Turner St   \n",
       "Rooms                              2                      2   \n",
       "Type                               h                      h   \n",
       "Price                        -9999.0              1480000.0   \n",
       "Method                            SS                      S   \n",
       "SellerG                       Jellis                 Biggin   \n",
       "Date                       3/09/2016              3/12/2016   \n",
       "Distance                         2.5                    2.5   \n",
       "Postcode                      3067.0                 3067.0   \n",
       "Bedroom2                         2.0                    2.0   \n",
       "Bathroom                         1.0                    1.0   \n",
       "Car                              1.0                    1.0   \n",
       "Landsize                       126.0                  202.0   \n",
       "BuildingArea                     NaN                    NaN   \n",
       "YearBuilt                        NaN                    NaN   \n",
       "CouncilArea       Yarra City Council     Yarra City Council   \n",
       "Lattitude                   -37.8014               -37.7996   \n",
       "Longtitude                  144.9958               144.9984   \n",
       "Regionname     Northern Metropolitan  Northern Metropolitan   \n",
       "Propertycount                 4019.0                 4019.0   \n",
       "\n",
       "                                   2                      3  \\\n",
       "Suburb                    Abbotsford             Abbotsford   \n",
       "Address              25 Bloomburg St     18/659 Victoria St   \n",
       "Rooms                              2                      3   \n",
       "Type                               h                      u   \n",
       "Price                      1035000.0                -9999.0   \n",
       "Method                             S                     VB   \n",
       "SellerG                       Biggin                 Rounds   \n",
       "Date                       4/02/2016              4/02/2016   \n",
       "Distance                         2.5                    2.5   \n",
       "Postcode                      3067.0                 3067.0   \n",
       "Bedroom2                         2.0                    3.0   \n",
       "Bathroom                         1.0                    2.0   \n",
       "Car                              0.0                    1.0   \n",
       "Landsize                       156.0                    0.0   \n",
       "BuildingArea                    79.0                    NaN   \n",
       "YearBuilt                     1900.0                    NaN   \n",
       "CouncilArea       Yarra City Council     Yarra City Council   \n",
       "Lattitude                   -37.8079               -37.8114   \n",
       "Longtitude                  144.9934               145.0116   \n",
       "Regionname     Northern Metropolitan  Northern Metropolitan   \n",
       "Propertycount                 4019.0                 4019.0   \n",
       "\n",
       "                                   4  \n",
       "Suburb                    Abbotsford  \n",
       "Address                 5 Charles St  \n",
       "Rooms                              3  \n",
       "Type                               h  \n",
       "Price                      1465000.0  \n",
       "Method                            SP  \n",
       "SellerG                       Biggin  \n",
       "Date                       4/03/2017  \n",
       "Distance                         2.5  \n",
       "Postcode                      3067.0  \n",
       "Bedroom2                         3.0  \n",
       "Bathroom                         2.0  \n",
       "Car                              0.0  \n",
       "Landsize                       134.0  \n",
       "BuildingArea                   150.0  \n",
       "YearBuilt                     1900.0  \n",
       "CouncilArea                      NaN  \n",
       "Lattitude                   -37.8093  \n",
       "Longtitude                  144.9944  \n",
       "Regionname     Northern Metropolitan  \n",
       "Propertycount                 4019.0  "
      ]
     },
     "execution_count": 2,
     "metadata": {},
     "output_type": "execute_result"
    }
   ],
   "source": [
    "housing = pd.read_csv(\"Data/Melbourne_housing_EDA.csv\")\n",
    "housing.head().T"
   ]
  },
  {
   "cell_type": "markdown",
   "metadata": {},
   "source": [
    "## Incomplete features\n",
    "\n",
    "### 1.\tDetection of missing values\n",
    "\n",
    "**1.\tMissing values encoded as NaN, NaT, or None.**"
   ]
  },
  {
   "cell_type": "code",
   "execution_count": 3,
   "metadata": {},
   "outputs": [
    {
     "data": {
      "text/plain": [
       "{'Suburb': 0,\n",
       " 'Address': 0,\n",
       " 'Rooms': 0,\n",
       " 'Type': 0,\n",
       " 'Price': 0,\n",
       " 'Method': 0,\n",
       " 'SellerG': 0,\n",
       " 'Date': 0,\n",
       " 'Distance': 1,\n",
       " 'Postcode': 0,\n",
       " 'Bedroom2': 0,\n",
       " 'Bathroom': 0,\n",
       " 'Car': 8728,\n",
       " 'Landsize': 11810,\n",
       " 'BuildingArea': 21115,\n",
       " 'YearBuilt': 19306,\n",
       " 'CouncilArea': 1397,\n",
       " 'Lattitude': 7976,\n",
       " 'Longtitude': 7976,\n",
       " 'Regionname': 3,\n",
       " 'Propertycount': 3}"
      ]
     },
     "execution_count": 3,
     "metadata": {},
     "output_type": "execute_result"
    }
   ],
   "source": [
    "nan = {col:housing[col].isnull().sum() for col in housing.columns}\n",
    "nan"
   ]
  },
  {
   "cell_type": "markdown",
   "metadata": {},
   "source": [
    "**2.\tMissing values encoded in some non-standard way that is described in the data dictionary.** "
   ]
  },
  {
   "cell_type": "code",
   "execution_count": 6,
   "metadata": {},
   "outputs": [
    {
     "data": {
      "text/plain": [
       "{'Suburb': 0,\n",
       " 'Address': 0,\n",
       " 'Rooms': 'is numeric',\n",
       " 'Type': 0,\n",
       " 'Price': 'is numeric',\n",
       " 'Method': 0,\n",
       " 'SellerG': 0,\n",
       " 'Date': 0,\n",
       " 'Distance': 'is numeric',\n",
       " 'Postcode': 280,\n",
       " 'Bedroom2': 0,\n",
       " 'Bathroom': 8226,\n",
       " 'Car': 'is numeric',\n",
       " 'Landsize': 'is numeric',\n",
       " 'BuildingArea': 'is numeric',\n",
       " 'YearBuilt': 'is numeric',\n",
       " 'CouncilArea': 0,\n",
       " 'Lattitude': 'is numeric',\n",
       " 'Longtitude': 'is numeric',\n",
       " 'Regionname': 0,\n",
       " 'Propertycount': 'is numeric'}"
      ]
     },
     "execution_count": 6,
     "metadata": {},
     "output_type": "execute_result"
    }
   ],
   "source": [
    "{col : np.sum(housing[col].isin([\"notavailable\", \"missing\"])) \n",
    "     if np.dtype(housing[col])==object \n",
    "     else \"is numeric\" for col in housing.columns}"
   ]
  },
  {
   "cell_type": "code",
   "execution_count": 7,
   "metadata": {},
   "outputs": [
    {
     "data": {
      "text/plain": [
       "{'Suburb': 'is text',\n",
       " 'Address': 'is text',\n",
       " 'Rooms': 0,\n",
       " 'Type': 'is text',\n",
       " 'Price': 7610,\n",
       " 'Method': 'is text',\n",
       " 'SellerG': 'is text',\n",
       " 'Date': 'is text',\n",
       " 'Distance': 77,\n",
       " 'Postcode': 'is text',\n",
       " 'Bedroom2': 'is text',\n",
       " 'Bathroom': 'is text',\n",
       " 'Car': 1631,\n",
       " 'Landsize': 2437,\n",
       " 'BuildingArea': 76,\n",
       " 'YearBuilt': 0,\n",
       " 'CouncilArea': 'is text',\n",
       " 'Lattitude': 0,\n",
       " 'Longtitude': 0,\n",
       " 'Regionname': 'is text',\n",
       " 'Propertycount': 0}"
      ]
     },
     "execution_count": 7,
     "metadata": {},
     "output_type": "execute_result"
    }
   ],
   "source": [
    "num_nan_dict = {col : np.sum(housing[col].isin([-9999,0])) \n",
    "                if np.dtype(housing[col])!=object \n",
    "                else \"is text\" for col in housing.columns}\n",
    "num_nan_dict"
   ]
  },
  {
   "cell_type": "markdown",
   "metadata": {},
   "source": [
    "**3.\tMissing values of a numeric feature encoded as a string that is not described in the data dictionary**"
   ]
  },
  {
   "cell_type": "code",
   "execution_count": 8,
   "metadata": {},
   "outputs": [
    {
     "data": {
      "text/html": [
       "<div>\n",
       "<style scoped>\n",
       "    .dataframe tbody tr th:only-of-type {\n",
       "        vertical-align: middle;\n",
       "    }\n",
       "\n",
       "    .dataframe tbody tr th {\n",
       "        vertical-align: top;\n",
       "    }\n",
       "\n",
       "    .dataframe thead th {\n",
       "        text-align: right;\n",
       "    }\n",
       "</style>\n",
       "<table border=\"1\" class=\"dataframe\">\n",
       "  <thead>\n",
       "    <tr style=\"text-align: right;\">\n",
       "      <th></th>\n",
       "      <th>type</th>\n",
       "      <th>sample</th>\n",
       "    </tr>\n",
       "  </thead>\n",
       "  <tbody>\n",
       "    <tr>\n",
       "      <th>Suburb</th>\n",
       "      <td>object</td>\n",
       "      <td>Airport West</td>\n",
       "    </tr>\n",
       "    <tr>\n",
       "      <th>Address</th>\n",
       "      <td>object</td>\n",
       "      <td>180 Parer Rd</td>\n",
       "    </tr>\n",
       "    <tr>\n",
       "      <th>Rooms</th>\n",
       "      <td>int64</td>\n",
       "      <td>3</td>\n",
       "    </tr>\n",
       "    <tr>\n",
       "      <th>Type</th>\n",
       "      <td>object</td>\n",
       "      <td>h</td>\n",
       "    </tr>\n",
       "    <tr>\n",
       "      <th>Price</th>\n",
       "      <td>float64</td>\n",
       "      <td>830000.0</td>\n",
       "    </tr>\n",
       "    <tr>\n",
       "      <th>Method</th>\n",
       "      <td>object</td>\n",
       "      <td>S</td>\n",
       "    </tr>\n",
       "    <tr>\n",
       "      <th>SellerG</th>\n",
       "      <td>object</td>\n",
       "      <td>Barry</td>\n",
       "    </tr>\n",
       "    <tr>\n",
       "      <th>Date</th>\n",
       "      <td>object</td>\n",
       "      <td>16/04/2016</td>\n",
       "    </tr>\n",
       "    <tr>\n",
       "      <th>Distance</th>\n",
       "      <td>float64</td>\n",
       "      <td>13.5</td>\n",
       "    </tr>\n",
       "    <tr>\n",
       "      <th>Postcode</th>\n",
       "      <td>object</td>\n",
       "      <td>3042.0</td>\n",
       "    </tr>\n",
       "    <tr>\n",
       "      <th>Bedroom2</th>\n",
       "      <td>object</td>\n",
       "      <td>3.0</td>\n",
       "    </tr>\n",
       "    <tr>\n",
       "      <th>Bathroom</th>\n",
       "      <td>object</td>\n",
       "      <td>1.0</td>\n",
       "    </tr>\n",
       "    <tr>\n",
       "      <th>Car</th>\n",
       "      <td>float64</td>\n",
       "      <td>2.0</td>\n",
       "    </tr>\n",
       "    <tr>\n",
       "      <th>Landsize</th>\n",
       "      <td>float64</td>\n",
       "      <td>971.0</td>\n",
       "    </tr>\n",
       "    <tr>\n",
       "      <th>BuildingArea</th>\n",
       "      <td>float64</td>\n",
       "      <td>113.0</td>\n",
       "    </tr>\n",
       "    <tr>\n",
       "      <th>YearBuilt</th>\n",
       "      <td>float64</td>\n",
       "      <td>1960.0</td>\n",
       "    </tr>\n",
       "    <tr>\n",
       "      <th>CouncilArea</th>\n",
       "      <td>object</td>\n",
       "      <td>Moonee Valley City Council</td>\n",
       "    </tr>\n",
       "    <tr>\n",
       "      <th>Lattitude</th>\n",
       "      <td>float64</td>\n",
       "      <td>-37.7186</td>\n",
       "    </tr>\n",
       "    <tr>\n",
       "      <th>Longtitude</th>\n",
       "      <td>float64</td>\n",
       "      <td>144.876</td>\n",
       "    </tr>\n",
       "    <tr>\n",
       "      <th>Regionname</th>\n",
       "      <td>object</td>\n",
       "      <td>Western Metropolitan</td>\n",
       "    </tr>\n",
       "    <tr>\n",
       "      <th>Propertycount</th>\n",
       "      <td>float64</td>\n",
       "      <td>3464.0</td>\n",
       "    </tr>\n",
       "  </tbody>\n",
       "</table>\n",
       "</div>"
      ],
      "text/plain": [
       "                  type                      sample\n",
       "Suburb          object                Airport West\n",
       "Address         object                180 Parer Rd\n",
       "Rooms            int64                           3\n",
       "Type            object                           h\n",
       "Price          float64                    830000.0\n",
       "Method          object                           S\n",
       "SellerG         object                       Barry\n",
       "Date            object                  16/04/2016\n",
       "Distance       float64                        13.5\n",
       "Postcode        object                      3042.0\n",
       "Bedroom2        object                         3.0\n",
       "Bathroom        object                         1.0\n",
       "Car            float64                         2.0\n",
       "Landsize       float64                       971.0\n",
       "BuildingArea   float64                       113.0\n",
       "YearBuilt      float64                      1960.0\n",
       "CouncilArea     object  Moonee Valley City Council\n",
       "Lattitude      float64                    -37.7186\n",
       "Longtitude     float64                     144.876\n",
       "Regionname      object        Western Metropolitan\n",
       "Propertycount  float64                      3464.0"
      ]
     },
     "execution_count": 8,
     "metadata": {},
     "output_type": "execute_result"
    }
   ],
   "source": [
    "pd.DataFrame(data={col:{'type':np.dtype(housing[col]).name, 'sample':housing.loc[100,col]} \n",
    "           for col in housing.columns}).T"
   ]
  },
  {
   "cell_type": "code",
   "execution_count": 9,
   "metadata": {},
   "outputs": [
    {
     "name": "stdout",
     "output_type": "stream",
     "text": [
      "Bathroom  :  ['notavailable']\n",
      "Bedroom2  :  ['-']\n",
      "Postcode  :  ['missing']\n"
     ]
    }
   ],
   "source": [
    "for col in ['Bathroom','Bedroom2', 'Postcode']:\n",
    "    missing = np.unique([i for i in housing[col] \n",
    "                              if re.match(r'^[+-]?(\\d+(\\.\\d*)?|\\.\\d+)([eE][+-]?\\d+)?$', i) is None])\n",
    "    print(col, ' : ', missing)"
   ]
  },
  {
   "cell_type": "markdown",
   "metadata": {},
   "source": [
    "**4.\tMissing values of a numeric feature encoded as an extreme numeric value.**"
   ]
  },
  {
   "cell_type": "code",
   "execution_count": 10,
   "metadata": {},
   "outputs": [
    {
     "data": {
      "text/html": [
       "<div>\n",
       "<style scoped>\n",
       "    .dataframe tbody tr th:only-of-type {\n",
       "        vertical-align: middle;\n",
       "    }\n",
       "\n",
       "    .dataframe tbody tr th {\n",
       "        vertical-align: top;\n",
       "    }\n",
       "\n",
       "    .dataframe thead th {\n",
       "        text-align: right;\n",
       "    }\n",
       "</style>\n",
       "<table border=\"1\" class=\"dataframe\">\n",
       "  <thead>\n",
       "    <tr style=\"text-align: right;\">\n",
       "      <th></th>\n",
       "      <th>max_value</th>\n",
       "      <th>min_value</th>\n",
       "    </tr>\n",
       "  </thead>\n",
       "  <tbody>\n",
       "    <tr>\n",
       "      <th>Rooms</th>\n",
       "      <td>1.600000e+01</td>\n",
       "      <td>1.00000</td>\n",
       "    </tr>\n",
       "    <tr>\n",
       "      <th>Price</th>\n",
       "      <td>1.120000e+07</td>\n",
       "      <td>-9999.00000</td>\n",
       "    </tr>\n",
       "    <tr>\n",
       "      <th>Distance</th>\n",
       "      <td>4.810000e+01</td>\n",
       "      <td>0.00000</td>\n",
       "    </tr>\n",
       "    <tr>\n",
       "      <th>Car</th>\n",
       "      <td>2.600000e+01</td>\n",
       "      <td>0.00000</td>\n",
       "    </tr>\n",
       "    <tr>\n",
       "      <th>Landsize</th>\n",
       "      <td>4.330140e+05</td>\n",
       "      <td>0.00000</td>\n",
       "    </tr>\n",
       "    <tr>\n",
       "      <th>BuildingArea</th>\n",
       "      <td>4.451500e+04</td>\n",
       "      <td>0.00000</td>\n",
       "    </tr>\n",
       "    <tr>\n",
       "      <th>YearBuilt</th>\n",
       "      <td>2.106000e+03</td>\n",
       "      <td>1196.00000</td>\n",
       "    </tr>\n",
       "    <tr>\n",
       "      <th>Lattitude</th>\n",
       "      <td>-3.739020e+01</td>\n",
       "      <td>-38.19043</td>\n",
       "    </tr>\n",
       "    <tr>\n",
       "      <th>Longtitude</th>\n",
       "      <td>1.455264e+02</td>\n",
       "      <td>144.42379</td>\n",
       "    </tr>\n",
       "    <tr>\n",
       "      <th>Propertycount</th>\n",
       "      <td>2.165000e+04</td>\n",
       "      <td>83.00000</td>\n",
       "    </tr>\n",
       "  </tbody>\n",
       "</table>\n",
       "</div>"
      ],
      "text/plain": [
       "                  max_value   min_value\n",
       "Rooms          1.600000e+01     1.00000\n",
       "Price          1.120000e+07 -9999.00000\n",
       "Distance       4.810000e+01     0.00000\n",
       "Car            2.600000e+01     0.00000\n",
       "Landsize       4.330140e+05     0.00000\n",
       "BuildingArea   4.451500e+04     0.00000\n",
       "YearBuilt      2.106000e+03  1196.00000\n",
       "Lattitude     -3.739020e+01   -38.19043\n",
       "Longtitude     1.455264e+02   144.42379\n",
       "Propertycount  2.165000e+04    83.00000"
      ]
     },
     "execution_count": 10,
     "metadata": {},
     "output_type": "execute_result"
    }
   ],
   "source": [
    "pd.DataFrame(data={col : {'max_value': np.max(housing[col]), \n",
    "                           'min_value': np.min(housing[col])}  \n",
    "                    for col in housing.columns \n",
    "                    if np.dtype(housing[col])!=object}).T"
   ]
  },
  {
   "cell_type": "markdown",
   "metadata": {},
   "source": [
    "**5.\tMissing values in non-numeric  column encoded as a string that is not described in the data dictionary.**"
   ]
  },
  {
   "cell_type": "code",
   "execution_count": 11,
   "metadata": {},
   "outputs": [
    {
     "data": {
      "text/plain": [
       "{'Type': array(['UNK'], dtype='<U3')}"
      ]
     },
     "execution_count": 11,
     "metadata": {},
     "output_type": "execute_result"
    }
   ],
   "source": [
    "expected = {'Type' : ['br','h','u','t','dev site','o res']}\n",
    "{col: np.unique([housing.loc[i,col] for i in housing[col].index \n",
    "                                             if not housing.loc[i,col] in expected[col]]) \n",
    "                             for col in housing.columns if col in expected.keys()}\n"
   ]
  },
  {
   "cell_type": "markdown",
   "metadata": {},
   "source": [
    "### 2.\tMissing values encoding"
   ]
  },
  {
   "cell_type": "code",
   "execution_count": 12,
   "metadata": {
    "collapsed": true
   },
   "outputs": [],
   "source": [
    "housing_nan = housing.applymap(lambda x: np.nan if x in ['notavailable','missing','-','UNK',-9999] else x)\n",
    "housing_nan['BuildingArea'] = housing_nan['BuildingArea'].replace(0, np.nan)\n",
    "housing_nan[housing_nan['YearBuilt'] > 2016] = np.nan \n",
    "housing_nan.fillna(value = np.nan, inplace = True)"
   ]
  },
  {
   "cell_type": "code",
   "execution_count": 13,
   "metadata": {
    "collapsed": true
   },
   "outputs": [],
   "source": [
    "housing_nan = housing_nan.astype({'Suburb': object, \n",
    "                                 'Address':object, \n",
    "                                 'Rooms':np.number, \n",
    "                                 'Type':object, \n",
    "                                 'Price':np.number, \n",
    "                                 'Method':object,\n",
    "                                 'SellerG': object,\n",
    "                                 'Distance': np.number,\n",
    "                                 'Postcode':  np.number, \n",
    "                                 'Bedroom2': np.number, \n",
    "                                 'Bathroom': np.number, \n",
    "                                 'Car': np.number,\n",
    "                                 'Landsize': np.number, \n",
    "                                 'BuildingArea': np.number, \n",
    "                                 'CouncilArea': object, \n",
    "                                 'Lattitude': np.number,\n",
    "                                 'Longtitude': np.number, \n",
    "                                 'Regionname': object, \n",
    "                                 'YearBuilt' : object ,\n",
    "                                 'Propertycount': np.number})\n",
    "housing_nan['Date'] = pd.to_datetime(housing_nan['Date'], format=\"%d/%M/%Y\")"
   ]
  },
  {
   "cell_type": "code",
   "execution_count": 14,
   "metadata": {},
   "outputs": [
    {
     "name": "stdout",
     "output_type": "stream",
     "text": [
      "<class 'pandas.core.frame.DataFrame'>\n",
      "RangeIndex: 34857 entries, 0 to 34856\n",
      "Data columns (total 21 columns):\n",
      " #   Column         Non-Null Count  Dtype         \n",
      "---  ------         --------------  -----         \n",
      " 0   Suburb         34769 non-null  object        \n",
      " 1   Address        34769 non-null  object        \n",
      " 2   Rooms          34769 non-null  float64       \n",
      " 3   Type           32338 non-null  object        \n",
      " 4   Price          27176 non-null  float64       \n",
      " 5   Method         34769 non-null  object        \n",
      " 6   SellerG        34769 non-null  object        \n",
      " 7   Date           34769 non-null  datetime64[ns]\n",
      " 8   Distance       34768 non-null  float64       \n",
      " 9   Postcode       34490 non-null  float64       \n",
      " 10  Bedroom2       26552 non-null  float64       \n",
      " 11  Bathroom       26543 non-null  float64       \n",
      " 12  Car            26043 non-null  float64       \n",
      " 13  Landsize       22980 non-null  float64       \n",
      " 14  BuildingArea   13583 non-null  float64       \n",
      " 15  YearBuilt      15463 non-null  object        \n",
      " 16  CouncilArea    33378 non-null  object        \n",
      " 17  Lattitude      26793 non-null  float64       \n",
      " 18  Longtitude     26793 non-null  float64       \n",
      " 19  Regionname     34766 non-null  object        \n",
      " 20  Propertycount  34766 non-null  float64       \n",
      "dtypes: datetime64[ns](1), float64(12), object(8)\n",
      "memory usage: 5.6+ MB\n"
     ]
    }
   ],
   "source": [
    "housing_nan.info()"
   ]
  },
  {
   "cell_type": "markdown",
   "metadata": {},
   "source": [
    "### 3.\tDeciding on a strategy\n",
    "**2.\tEvaluating the extend of the problem.**"
   ]
  },
  {
   "cell_type": "code",
   "execution_count": 15,
   "metadata": {},
   "outputs": [
    {
     "data": {
      "text/html": [
       "<div>\n",
       "<style scoped>\n",
       "    .dataframe tbody tr th:only-of-type {\n",
       "        vertical-align: middle;\n",
       "    }\n",
       "\n",
       "    .dataframe tbody tr th {\n",
       "        vertical-align: top;\n",
       "    }\n",
       "\n",
       "    .dataframe thead th {\n",
       "        text-align: right;\n",
       "    }\n",
       "</style>\n",
       "<table border=\"1\" class=\"dataframe\">\n",
       "  <thead>\n",
       "    <tr style=\"text-align: right;\">\n",
       "      <th></th>\n",
       "      <th>col_name</th>\n",
       "      <th>pct_detected_nan</th>\n",
       "    </tr>\n",
       "  </thead>\n",
       "  <tbody>\n",
       "    <tr>\n",
       "      <th>0</th>\n",
       "      <td>Suburb</td>\n",
       "      <td>0.252</td>\n",
       "    </tr>\n",
       "    <tr>\n",
       "      <th>1</th>\n",
       "      <td>Address</td>\n",
       "      <td>0.252</td>\n",
       "    </tr>\n",
       "    <tr>\n",
       "      <th>2</th>\n",
       "      <td>Rooms</td>\n",
       "      <td>0.252</td>\n",
       "    </tr>\n",
       "    <tr>\n",
       "      <th>5</th>\n",
       "      <td>Method</td>\n",
       "      <td>0.252</td>\n",
       "    </tr>\n",
       "    <tr>\n",
       "      <th>6</th>\n",
       "      <td>SellerG</td>\n",
       "      <td>0.252</td>\n",
       "    </tr>\n",
       "    <tr>\n",
       "      <th>7</th>\n",
       "      <td>Date</td>\n",
       "      <td>0.252</td>\n",
       "    </tr>\n",
       "    <tr>\n",
       "      <th>8</th>\n",
       "      <td>Distance</td>\n",
       "      <td>0.255</td>\n",
       "    </tr>\n",
       "    <tr>\n",
       "      <th>19</th>\n",
       "      <td>Regionname</td>\n",
       "      <td>0.261</td>\n",
       "    </tr>\n",
       "    <tr>\n",
       "      <th>20</th>\n",
       "      <td>Propertycount</td>\n",
       "      <td>0.261</td>\n",
       "    </tr>\n",
       "    <tr>\n",
       "      <th>9</th>\n",
       "      <td>Postcode</td>\n",
       "      <td>1.053</td>\n",
       "    </tr>\n",
       "    <tr>\n",
       "      <th>16</th>\n",
       "      <td>CouncilArea</td>\n",
       "      <td>4.243</td>\n",
       "    </tr>\n",
       "    <tr>\n",
       "      <th>3</th>\n",
       "      <td>Type</td>\n",
       "      <td>7.227</td>\n",
       "    </tr>\n",
       "    <tr>\n",
       "      <th>4</th>\n",
       "      <td>Price</td>\n",
       "      <td>22.036</td>\n",
       "    </tr>\n",
       "    <tr>\n",
       "      <th>17</th>\n",
       "      <td>Lattitude</td>\n",
       "      <td>23.135</td>\n",
       "    </tr>\n",
       "    <tr>\n",
       "      <th>18</th>\n",
       "      <td>Longtitude</td>\n",
       "      <td>23.135</td>\n",
       "    </tr>\n",
       "    <tr>\n",
       "      <th>10</th>\n",
       "      <td>Bedroom2</td>\n",
       "      <td>23.826</td>\n",
       "    </tr>\n",
       "    <tr>\n",
       "      <th>11</th>\n",
       "      <td>Bathroom</td>\n",
       "      <td>23.852</td>\n",
       "    </tr>\n",
       "    <tr>\n",
       "      <th>12</th>\n",
       "      <td>Car</td>\n",
       "      <td>25.286</td>\n",
       "    </tr>\n",
       "    <tr>\n",
       "      <th>13</th>\n",
       "      <td>Landsize</td>\n",
       "      <td>34.074</td>\n",
       "    </tr>\n",
       "    <tr>\n",
       "      <th>15</th>\n",
       "      <td>YearBuilt</td>\n",
       "      <td>55.639</td>\n",
       "    </tr>\n",
       "    <tr>\n",
       "      <th>14</th>\n",
       "      <td>BuildingArea</td>\n",
       "      <td>61.032</td>\n",
       "    </tr>\n",
       "    <tr>\n",
       "      <th>0</th>\n",
       "      <td>All</td>\n",
       "      <td>14.611</td>\n",
       "    </tr>\n",
       "  </tbody>\n",
       "</table>\n",
       "</div>"
      ],
      "text/plain": [
       "         col_name  pct_detected_nan\n",
       "0          Suburb             0.252\n",
       "1         Address             0.252\n",
       "2           Rooms             0.252\n",
       "5          Method             0.252\n",
       "6         SellerG             0.252\n",
       "7            Date             0.252\n",
       "8        Distance             0.255\n",
       "19     Regionname             0.261\n",
       "20  Propertycount             0.261\n",
       "9        Postcode             1.053\n",
       "16    CouncilArea             4.243\n",
       "3            Type             7.227\n",
       "4           Price            22.036\n",
       "17      Lattitude            23.135\n",
       "18     Longtitude            23.135\n",
       "10       Bedroom2            23.826\n",
       "11       Bathroom            23.852\n",
       "12            Car            25.286\n",
       "13       Landsize            34.074\n",
       "15      YearBuilt            55.639\n",
       "14   BuildingArea            61.032\n",
       "0             All            14.611"
      ]
     },
     "execution_count": 15,
     "metadata": {},
     "output_type": "execute_result"
    }
   ],
   "source": [
    "pct = pd.DataFrame(data ={'col_name' :housing_nan.columns,  \n",
    "                          'pct_detected_nan' :  [round((housing_nan[col].isnull().sum())*100/housing_nan.shape[0],3) \n",
    "                                                 for col in housing_nan.columns]})\n",
    "pct.sort_values(by='pct_detected_nan',inplace=True)\n",
    "pct = pd.concat([pct, \n",
    "                 pd.DataFrame(data={'col_name': ['All'],\n",
    "                                         'pct_detected_nan': round(np.average(pct['pct_detected_nan'].values),3)}\n",
    "                             )\n",
    "                ]\n",
    "               )\n",
    "pct"
   ]
  },
  {
   "cell_type": "markdown",
   "metadata": {
    "collapsed": true
   },
   "source": [
    "**3.\tUnderstanding the patterns of missingness.**"
   ]
  },
  {
   "cell_type": "code",
   "execution_count": 16,
   "metadata": {},
   "outputs": [
    {
     "data": {
      "image/png": "[encoded data removed]",
      "text/plain": [
       "<Figure size 1080x864 with 1 Axes>"
      ]
     },
     "metadata": {
      "needs_background": "light"
     },
     "output_type": "display_data"
    }
   ],
   "source": [
    "matplotlib.rcParams['figure.figsize'] = [15,12]\n",
    "sns.heatmap(housing_nan.isnull().sort_values(by=\"YearBuilt\"), cbar=False);"
   ]
  },
  {
   "cell_type": "code",
   "execution_count": 45,
   "metadata": {},
   "outputs": [
    {
     "data": {
      "image/png": "[encoded data removed]",
      "text/plain": [
       "<Figure size 1080x864 with 2 Axes>"
      ]
     },
     "metadata": {
      "needs_background": "light"
     },
     "output_type": "display_data"
    }
   ],
   "source": [
    "matplotlib.rcParams['figure.figsize'] = [15,12]\n",
    "df = pd.DataFrame(columns=housing_nan.columns, index =housing_nan.columns)\n",
    "for col1 in housing_nan.columns:\n",
    "    for col2 in housing_nan.columns:\n",
    "        df.loc[col1,col2] = housing_nan[(housing_nan[col1].isnull()) & (housing_nan[col2].isnull())].shape[0]\n",
    "df = df.loc[:, (df != 0).any(axis=0)] \n",
    "df = df.loc[(df != 0).any(axis=1),:] \n",
    "df = df.astype(np.number)\n",
    "mask = np.triu(df)\n",
    "sns.heatmap(df, mask=mask);"
   ]
  },
  {
   "cell_type": "markdown",
   "metadata": {},
   "source": [
    "### 4.\tHandling missing values\n",
    "\n",
    "**2.\tDrop missing values.**"
   ]
  },
  {
   "cell_type": "code",
   "execution_count": 46,
   "metadata": {},
   "outputs": [
    {
     "data": {
      "text/plain": [
       "(34857, 21)"
      ]
     },
     "execution_count": 46,
     "metadata": {},
     "output_type": "execute_result"
    }
   ],
   "source": [
    "housing_nan.shape"
   ]
  },
  {
   "cell_type": "code",
   "execution_count": 47,
   "metadata": {
    "collapsed": true
   },
   "outputs": [],
   "source": [
    "housing_nan['indicator'] = [1 if (housing_nan.loc[i,['YearBuilt','BuildingArea']].isnull().sum()!=0) \n",
    "                            else 0 \n",
    "                            for i in range(housing_nan.shape[0])]"
   ]
  },
  {
   "cell_type": "code",
   "execution_count": 48,
   "metadata": {
    "collapsed": true
   },
   "outputs": [],
   "source": [
    "housing_nan['weight'] = [1-(housing_nan.iloc[i,:].isnull().sum()/housing_nan.shape[1])\n",
    "                         for i in range(housing_nan.shape[0])]"
   ]
  },
  {
   "cell_type": "code",
   "execution_count": 49,
   "metadata": {
    "collapsed": true
   },
   "outputs": [],
   "source": [
    "housing_nan.dropna(axis=0, how='any', subset=[\"Price\"], inplace=True)\n",
    "housing_nan.dropna(axis=1, how='any', thresh = 0.5*housing_nan.shape[0], inplace=True)\n",
    "housing_nan.dropna(axis=0, how='any', thresh = 0.5*housing_nan.shape[1], inplace=True)"
   ]
  },
  {
   "cell_type": "code",
   "execution_count": 50,
   "metadata": {},
   "outputs": [
    {
     "data": {
      "text/plain": [
       "(27175, 21)"
      ]
     },
     "execution_count": 50,
     "metadata": {},
     "output_type": "execute_result"
    }
   ],
   "source": [
    "housing_nan.shape"
   ]
  },
  {
   "cell_type": "markdown",
   "metadata": {},
   "source": [
    "**3.\tImputation with a single value.**"
   ]
  },
  {
   "cell_type": "code",
   "execution_count": 55,
   "metadata": {
    "collapsed": true
   },
   "outputs": [],
   "source": [
    "housing_nan['Car'].fillna(housing_nan['Car'].median(), inplace=True)\n",
    "housing_nan['Type'].fillna(housing_nan['Type'].mode()[0], inplace=True)\n",
    "housing_nan['Postcode'].fillna(0, inplace=True)"
   ]
  },
  {
   "cell_type": "markdown",
   "metadata": {},
   "source": [
    "**4. Forward and backward filling**"
   ]
  },
  {
   "cell_type": "code",
   "execution_count": 56,
   "metadata": {
    "collapsed": true
   },
   "outputs": [],
   "source": [
    "housing_nan.sort_values(by=[\"Postcode\"], ascending=True, inplace=True)\n",
    "housing_nan[\"CouncilArea\"] = housing_nan[\"CouncilArea\"].ffill()"
   ]
  },
  {
   "cell_type": "markdown",
   "metadata": {},
   "source": [
    "**5.\tModel-based imputation.**"
   ]
  },
  {
   "cell_type": "code",
   "execution_count": 57,
   "metadata": {
    "collapsed": true
   },
   "outputs": [],
   "source": [
    "df = housing_nan[['Rooms', 'Price', 'Distance', 'Car', 'Propertycount','Lattitude','Longtitude']].copy()\n",
    "df.reset_index(drop=True, inplace=True)\n",
    "df_em = pd.DataFrame(data = impy.em(df.values, loops=100), columns = df.columns)                     \n",
    "housing_nan[['Lattitude','Longtitude']] = df_em[['Lattitude','Longtitude']].values"
   ]
  },
  {
   "cell_type": "code",
   "execution_count": 58,
   "metadata": {
    "collapsed": true
   },
   "outputs": [],
   "source": [
    "df = housing_nan[['Rooms', 'Price', 'Distance', 'Car', 'Propertycount', 'Landsize']].copy()\n",
    "df.reset_index(drop=True, inplace=True)\n",
    "\n",
    "scaler = MinMaxScaler()\n",
    "df_mm = pd.DataFrame(scaler.fit_transform(df), columns = df.columns)\n",
    "imputer = KNNImputer(n_neighbors=5)\n",
    "df_temp = pd.DataFrame(imputer.fit_transform(df_mm), columns = df_mm.columns)\n",
    "df_knn = pd.DataFrame(scaler.inverse_transform(df_temp), columns = df_temp.columns)\n",
    "housing_nan[['Landsize']] = df_knn[['Landsize']].values"
   ]
  },
  {
   "cell_type": "code",
   "execution_count": 60,
   "metadata": {},
   "outputs": [
    {
     "data": {
      "text/plain": [
       "(27175, 21)"
      ]
     },
     "execution_count": 60,
     "metadata": {},
     "output_type": "execute_result"
    }
   ],
   "source": [
    "housing_nan.shape"
   ]
  },
  {
   "cell_type": "markdown",
   "metadata": {},
   "source": [
    "**6.\tMultiple imputation.**"
   ]
  },
  {
   "cell_type": "code",
   "execution_count": 61,
   "metadata": {
    "collapsed": true
   },
   "outputs": [],
   "source": [
    "df = housing_nan[['Rooms','Distance', 'Car', 'Propertycount', 'Landsize', 'Lattitude','Longtitude', 'Bathroom', 'Bedroom2']].copy()\n",
    "iterations = 5\n",
    "d = {'df'+str(i): pd.DataFrame() for i in range(iterations)}\n",
    "for i in range(iterations):\n",
    "    imputer = IterativeImputer(random_state=10**i, sample_posterior=True)\n",
    "    imputer.fit(df)\n",
    "    imp = imputer.transform(df)\n",
    "    d['df'+str(i)] = pd.DataFrame(imp, columns=df.columns)\n",
    "    d['df'+str(i)].loc[d['df'+str(i)]['Bathroom']< 0, 'Bathroom'] = 0\n",
    "    d['df'+str(i)].loc[d['df'+str(i)]['Bedroom2']< 0, 'Bedroom2'] = 0"
   ]
  },
  {
   "cell_type": "code",
   "execution_count": 62,
   "metadata": {
    "collapsed": true
   },
   "outputs": [],
   "source": [
    "housing_nan['Bathroom'] = np.mean([d['df'+str(i)][['Bathroom']].values for i in range(iterations)], axis=0)\n",
    "housing_nan['Bedroom2'] = np.mean([d['df'+str(i)][['Bedroom2']].values for i in range(iterations)], axis=0)"
   ]
  },
  {
   "cell_type": "code",
   "execution_count": 63,
   "metadata": {
    "collapsed": true
   },
   "outputs": [],
   "source": [
    "housing_nan.to_csv(\"Data/Melbourne_housing_imp.csv\", index=False)"
   ]
  },
  {
   "cell_type": "markdown",
   "metadata": {},
   "source": [
    "## Numerical features"
   ]
  },
  {
   "cell_type": "code",
   "execution_count": 113,
   "metadata": {
    "collapsed": true
   },
   "outputs": [],
   "source": [
    "housing_imp = pd.read_csv(\"Data/Melbourne_housing_imp.csv\")\n",
    "housing_num = housing_imp[[col for col in housing_nan.columns if np.dtype(housing_imp[col])==float]]"
   ]
  },
  {
   "cell_type": "markdown",
   "metadata": {},
   "source": [
    "### 1.\tDescription of the data distribution"
   ]
  },
  {
   "cell_type": "code",
   "execution_count": 99,
   "metadata": {},
   "outputs": [
    {
     "data": {
      "image/png": "[encoded data removed]",
      "text/plain": [
       "<Figure size 1080x864 with 12 Axes>"
      ]
     },
     "metadata": {
      "needs_background": "light"
     },
     "output_type": "display_data"
    }
   ],
   "source": [
    "grid_rows = 3\n",
    "grid_cols = housing_num.shape[1]/grid_rows\n",
    "\n",
    "fig = plt.figure()\n",
    "i=1\n",
    "for col in housing_num.columns:\n",
    "    ax = fig.add_subplot(grid_rows, int(np.ceil(grid_cols)), i)\n",
    "    sns.histplot(housing_num[col])\n",
    "    i+=1\n",
    "plt.show();"
   ]
  },
  {
   "cell_type": "code",
   "execution_count": 100,
   "metadata": {
    "scrolled": false
   },
   "outputs": [
    {
     "data": {
      "text/html": [
       "<div>\n",
       "<style scoped>\n",
       "    .dataframe tbody tr th:only-of-type {\n",
       "        vertical-align: middle;\n",
       "    }\n",
       "\n",
       "    .dataframe tbody tr th {\n",
       "        vertical-align: top;\n",
       "    }\n",
       "\n",
       "    .dataframe thead th {\n",
       "        text-align: right;\n",
       "    }\n",
       "</style>\n",
       "<table border=\"1\" class=\"dataframe\">\n",
       "  <thead>\n",
       "    <tr style=\"text-align: right;\">\n",
       "      <th></th>\n",
       "      <th>skew</th>\n",
       "      <th>mode</th>\n",
       "      <th>median</th>\n",
       "      <th>mean</th>\n",
       "      <th>std</th>\n",
       "      <th>min</th>\n",
       "      <th>25%</th>\n",
       "      <th>50%</th>\n",
       "      <th>75%</th>\n",
       "      <th>max</th>\n",
       "    </tr>\n",
       "  </thead>\n",
       "  <tbody>\n",
       "    <tr>\n",
       "      <th>Rooms</th>\n",
       "      <td>0.513387</td>\n",
       "      <td>3.0000</td>\n",
       "      <td>3.000000</td>\n",
       "      <td>2.991500e+00</td>\n",
       "      <td>0.954955</td>\n",
       "      <td>1.00000</td>\n",
       "      <td>2.000000</td>\n",
       "      <td>3.000000</td>\n",
       "      <td>4.000000e+00</td>\n",
       "      <td>1.600000e+01</td>\n",
       "    </tr>\n",
       "    <tr>\n",
       "      <th>Price</th>\n",
       "      <td>2.590408</td>\n",
       "      <td>600000.0000</td>\n",
       "      <td>870000.000000</td>\n",
       "      <td>1.050016e+06</td>\n",
       "      <td>641588.433817</td>\n",
       "      <td>85000.00000</td>\n",
       "      <td>635000.000000</td>\n",
       "      <td>870000.000000</td>\n",
       "      <td>1.295000e+06</td>\n",
       "      <td>1.120000e+07</td>\n",
       "    </tr>\n",
       "    <tr>\n",
       "      <th>Distance</th>\n",
       "      <td>1.476944</td>\n",
       "      <td>11.2000</td>\n",
       "      <td>10.400000</td>\n",
       "      <td>1.127633e+01</td>\n",
       "      <td>6.787120</td>\n",
       "      <td>0.00000</td>\n",
       "      <td>6.400000</td>\n",
       "      <td>10.400000</td>\n",
       "      <td>1.400000e+01</td>\n",
       "      <td>4.810000e+01</td>\n",
       "    </tr>\n",
       "    <tr>\n",
       "      <th>Postcode</th>\n",
       "      <td>-8.657484</td>\n",
       "      <td>3073.0000</td>\n",
       "      <td>3087.000000</td>\n",
       "      <td>3.089219e+03</td>\n",
       "      <td>296.584774</td>\n",
       "      <td>0.00000</td>\n",
       "      <td>3046.000000</td>\n",
       "      <td>3087.000000</td>\n",
       "      <td>3.152000e+03</td>\n",
       "      <td>3.978000e+03</td>\n",
       "    </tr>\n",
       "    <tr>\n",
       "      <th>Bedroom2</th>\n",
       "      <td>0.641101</td>\n",
       "      <td>3.0000</td>\n",
       "      <td>3.000000</td>\n",
       "      <td>3.019410e+00</td>\n",
       "      <td>1.032944</td>\n",
       "      <td>0.00000</td>\n",
       "      <td>2.000000</td>\n",
       "      <td>3.000000</td>\n",
       "      <td>4.000000e+00</td>\n",
       "      <td>2.000000e+01</td>\n",
       "    </tr>\n",
       "    <tr>\n",
       "      <th>Bathroom</th>\n",
       "      <td>1.594975</td>\n",
       "      <td>1.0000</td>\n",
       "      <td>2.000000</td>\n",
       "      <td>1.844074e+00</td>\n",
       "      <td>1.038359</td>\n",
       "      <td>0.00000</td>\n",
       "      <td>1.000000</td>\n",
       "      <td>2.000000</td>\n",
       "      <td>2.000000e+00</td>\n",
       "      <td>9.257247e+00</td>\n",
       "    </tr>\n",
       "    <tr>\n",
       "      <th>Car</th>\n",
       "      <td>1.599926</td>\n",
       "      <td>2.0000</td>\n",
       "      <td>2.000000</td>\n",
       "      <td>1.786495e+00</td>\n",
       "      <td>0.870026</td>\n",
       "      <td>0.00000</td>\n",
       "      <td>1.000000</td>\n",
       "      <td>2.000000</td>\n",
       "      <td>2.000000e+00</td>\n",
       "      <td>1.800000e+01</td>\n",
       "    </tr>\n",
       "    <tr>\n",
       "      <th>Landsize</th>\n",
       "      <td>104.175799</td>\n",
       "      <td>0.0000</td>\n",
       "      <td>505.000000</td>\n",
       "      <td>5.894953e+02</td>\n",
       "      <td>3126.518942</td>\n",
       "      <td>0.00000</td>\n",
       "      <td>250.000000</td>\n",
       "      <td>505.000000</td>\n",
       "      <td>6.540000e+02</td>\n",
       "      <td>4.330140e+05</td>\n",
       "    </tr>\n",
       "    <tr>\n",
       "      <th>Lattitude</th>\n",
       "      <td>-0.249553</td>\n",
       "      <td>-37.8361</td>\n",
       "      <td>-37.802100</td>\n",
       "      <td>-3.780723e+01</td>\n",
       "      <td>0.091200</td>\n",
       "      <td>-38.19043</td>\n",
       "      <td>-37.862779</td>\n",
       "      <td>-37.802100</td>\n",
       "      <td>-3.774860e+01</td>\n",
       "      <td>-3.739780e+01</td>\n",
       "    </tr>\n",
       "    <tr>\n",
       "      <th>Longtitude</th>\n",
       "      <td>-0.273068</td>\n",
       "      <td>144.9966</td>\n",
       "      <td>145.002077</td>\n",
       "      <td>1.449969e+02</td>\n",
       "      <td>0.120691</td>\n",
       "      <td>144.42379</td>\n",
       "      <td>144.924090</td>\n",
       "      <td>145.002077</td>\n",
       "      <td>1.450704e+02</td>\n",
       "      <td>1.455264e+02</td>\n",
       "    </tr>\n",
       "    <tr>\n",
       "      <th>Propertycount</th>\n",
       "      <td>NaN</td>\n",
       "      <td>21650.0000</td>\n",
       "      <td>6567.000000</td>\n",
       "      <td>7.568157e+03</td>\n",
       "      <td>4492.829561</td>\n",
       "      <td>83.00000</td>\n",
       "      <td>4294.000000</td>\n",
       "      <td>6567.000000</td>\n",
       "      <td>1.041200e+04</td>\n",
       "      <td>2.165000e+04</td>\n",
       "    </tr>\n",
       "    <tr>\n",
       "      <th>weight</th>\n",
       "      <td>-0.945534</td>\n",
       "      <td>1.0000</td>\n",
       "      <td>0.909091</td>\n",
       "      <td>8.721084e-01</td>\n",
       "      <td>0.140007</td>\n",
       "      <td>0.50000</td>\n",
       "      <td>0.863636</td>\n",
       "      <td>0.909091</td>\n",
       "      <td>1.000000e+00</td>\n",
       "      <td>1.000000e+00</td>\n",
       "    </tr>\n",
       "  </tbody>\n",
       "</table>\n",
       "</div>"
      ],
      "text/plain": [
       "                     skew         mode         median          mean  \\\n",
       "Rooms            0.513387       3.0000       3.000000  2.991500e+00   \n",
       "Price            2.590408  600000.0000  870000.000000  1.050016e+06   \n",
       "Distance         1.476944      11.2000      10.400000  1.127633e+01   \n",
       "Postcode        -8.657484    3073.0000    3087.000000  3.089219e+03   \n",
       "Bedroom2         0.641101       3.0000       3.000000  3.019410e+00   \n",
       "Bathroom         1.594975       1.0000       2.000000  1.844074e+00   \n",
       "Car              1.599926       2.0000       2.000000  1.786495e+00   \n",
       "Landsize       104.175799       0.0000     505.000000  5.894953e+02   \n",
       "Lattitude       -0.249553     -37.8361     -37.802100 -3.780723e+01   \n",
       "Longtitude      -0.273068     144.9966     145.002077  1.449969e+02   \n",
       "Propertycount         NaN   21650.0000    6567.000000  7.568157e+03   \n",
       "weight          -0.945534       1.0000       0.909091  8.721084e-01   \n",
       "\n",
       "                         std          min            25%            50%  \\\n",
       "Rooms               0.954955      1.00000       2.000000       3.000000   \n",
       "Price          641588.433817  85000.00000  635000.000000  870000.000000   \n",
       "Distance            6.787120      0.00000       6.400000      10.400000   \n",
       "Postcode          296.584774      0.00000    3046.000000    3087.000000   \n",
       "Bedroom2            1.032944      0.00000       2.000000       3.000000   \n",
       "Bathroom            1.038359      0.00000       1.000000       2.000000   \n",
       "Car                 0.870026      0.00000       1.000000       2.000000   \n",
       "Landsize         3126.518942      0.00000     250.000000     505.000000   \n",
       "Lattitude           0.091200    -38.19043     -37.862779     -37.802100   \n",
       "Longtitude          0.120691    144.42379     144.924090     145.002077   \n",
       "Propertycount    4492.829561     83.00000    4294.000000    6567.000000   \n",
       "weight              0.140007      0.50000       0.863636       0.909091   \n",
       "\n",
       "                        75%           max  \n",
       "Rooms          4.000000e+00  1.600000e+01  \n",
       "Price          1.295000e+06  1.120000e+07  \n",
       "Distance       1.400000e+01  4.810000e+01  \n",
       "Postcode       3.152000e+03  3.978000e+03  \n",
       "Bedroom2       4.000000e+00  2.000000e+01  \n",
       "Bathroom       2.000000e+00  9.257247e+00  \n",
       "Car            2.000000e+00  1.800000e+01  \n",
       "Landsize       6.540000e+02  4.330140e+05  \n",
       "Lattitude     -3.774860e+01 -3.739780e+01  \n",
       "Longtitude     1.450704e+02  1.455264e+02  \n",
       "Propertycount  1.041200e+04  2.165000e+04  \n",
       "weight         1.000000e+00  1.000000e+00  "
      ]
     },
     "execution_count": 100,
     "metadata": {},
     "output_type": "execute_result"
    }
   ],
   "source": [
    "df_num = pd.DataFrame(data= {col : {'skew': skew(housing_num[col]),\n",
    "                                'mode':housing_num[col].mode()[0], \n",
    "                                'median':housing_num[col].median()} \n",
    "                    for col in housing_num.columns \n",
    "                    if np.dtype(housing_num[col])==float}).T\n",
    "num_stats = pd.concat([df_num, housing_num.describe().T.iloc[:,1:]], axis=1)\n",
    "num_stats"
   ]
  },
  {
   "cell_type": "markdown",
   "metadata": {},
   "source": [
    "### 2.\tNormality testing\n",
    "\n",
    "**1.\t Q-Q plot visualization**"
   ]
  },
  {
   "cell_type": "code",
   "execution_count": 101,
   "metadata": {},
   "outputs": [
    {
     "data": {
      "image/png": "[encoded data removed]",
      "text/plain": [
       "<Figure size 1080x864 with 12 Axes>"
      ]
     },
     "metadata": {
      "needs_background": "light"
     },
     "output_type": "display_data"
    }
   ],
   "source": [
    "scaler = MinMaxScaler(feature_range=(-1, 1))\n",
    "df_mm = pd.DataFrame(scaler.fit_transform(housing_num), columns = housing_num.columns)\n",
    "\n",
    "grid_rows = 3\n",
    "grid_cols = df_mm.shape[1]/grid_rows\n",
    "\n",
    "fig = plt.figure()\n",
    "i=1\n",
    "for col in df_mm.columns:\n",
    "    ax = fig.add_subplot(grid_rows, int(np.ceil(grid_cols)), i)\n",
    "    probplot(df_mm[col].values, dist=\"norm\", plot=plt)\n",
    "    plt.title(None)\n",
    "    plt.ylabel(col)\n",
    "    i+=1\n",
    "    \n",
    "plt.subplots_adjust(wspace=0.35)    \n",
    "plt.show();"
   ]
  },
  {
   "cell_type": "markdown",
   "metadata": {},
   "source": [
    "**2.\tStatistical testing for normality**"
   ]
  },
  {
   "cell_type": "code",
   "execution_count": 102,
   "metadata": {
    "scrolled": false
   },
   "outputs": [
    {
     "data": {
      "text/html": [
       "<div>\n",
       "<style scoped>\n",
       "    .dataframe tbody tr th:only-of-type {\n",
       "        vertical-align: middle;\n",
       "    }\n",
       "\n",
       "    .dataframe tbody tr th {\n",
       "        vertical-align: top;\n",
       "    }\n",
       "\n",
       "    .dataframe thead th {\n",
       "        text-align: right;\n",
       "    }\n",
       "</style>\n",
       "<table border=\"1\" class=\"dataframe\">\n",
       "  <thead>\n",
       "    <tr style=\"text-align: right;\">\n",
       "      <th></th>\n",
       "      <th>name</th>\n",
       "      <th>statistic</th>\n",
       "      <th>pvalue</th>\n",
       "    </tr>\n",
       "  </thead>\n",
       "  <tbody>\n",
       "    <tr>\n",
       "      <th>0</th>\n",
       "      <td>Rooms</td>\n",
       "      <td>2866.351654</td>\n",
       "      <td>0.000000e+00</td>\n",
       "    </tr>\n",
       "    <tr>\n",
       "      <th>1</th>\n",
       "      <td>Price</td>\n",
       "      <td>16044.314605</td>\n",
       "      <td>0.000000e+00</td>\n",
       "    </tr>\n",
       "    <tr>\n",
       "      <th>2</th>\n",
       "      <td>Distance</td>\n",
       "      <td>7743.257061</td>\n",
       "      <td>0.000000e+00</td>\n",
       "    </tr>\n",
       "    <tr>\n",
       "      <th>3</th>\n",
       "      <td>Postcode</td>\n",
       "      <td>38619.155118</td>\n",
       "      <td>0.000000e+00</td>\n",
       "    </tr>\n",
       "    <tr>\n",
       "      <th>4</th>\n",
       "      <td>Bedroom2</td>\n",
       "      <td>4537.614171</td>\n",
       "      <td>0.000000e+00</td>\n",
       "    </tr>\n",
       "    <tr>\n",
       "      <th>5</th>\n",
       "      <td>Bathroom</td>\n",
       "      <td>8413.811869</td>\n",
       "      <td>0.000000e+00</td>\n",
       "    </tr>\n",
       "    <tr>\n",
       "      <th>6</th>\n",
       "      <td>Car</td>\n",
       "      <td>11311.193125</td>\n",
       "      <td>0.000000e+00</td>\n",
       "    </tr>\n",
       "    <tr>\n",
       "      <th>7</th>\n",
       "      <td>Landsize</td>\n",
       "      <td>109388.523750</td>\n",
       "      <td>0.000000e+00</td>\n",
       "    </tr>\n",
       "    <tr>\n",
       "      <th>8</th>\n",
       "      <td>Lattitude</td>\n",
       "      <td>871.934279</td>\n",
       "      <td>4.590680e-190</td>\n",
       "    </tr>\n",
       "    <tr>\n",
       "      <th>9</th>\n",
       "      <td>Longtitude</td>\n",
       "      <td>953.760179</td>\n",
       "      <td>7.827241e-208</td>\n",
       "    </tr>\n",
       "    <tr>\n",
       "      <th>10</th>\n",
       "      <td>Propertycount</td>\n",
       "      <td>NaN</td>\n",
       "      <td>NaN</td>\n",
       "    </tr>\n",
       "    <tr>\n",
       "      <th>11</th>\n",
       "      <td>weight</td>\n",
       "      <td>4358.203225</td>\n",
       "      <td>0.000000e+00</td>\n",
       "    </tr>\n",
       "  </tbody>\n",
       "</table>\n",
       "</div>"
      ],
      "text/plain": [
       "             name      statistic         pvalue\n",
       "0           Rooms    2866.351654   0.000000e+00\n",
       "1           Price   16044.314605   0.000000e+00\n",
       "2        Distance    7743.257061   0.000000e+00\n",
       "3        Postcode   38619.155118   0.000000e+00\n",
       "4        Bedroom2    4537.614171   0.000000e+00\n",
       "5        Bathroom    8413.811869   0.000000e+00\n",
       "6             Car   11311.193125   0.000000e+00\n",
       "7        Landsize  109388.523750   0.000000e+00\n",
       "8       Lattitude     871.934279  4.590680e-190\n",
       "9      Longtitude     953.760179  7.827241e-208\n",
       "10  Propertycount            NaN            NaN\n",
       "11         weight    4358.203225   0.000000e+00"
      ]
     },
     "execution_count": 102,
     "metadata": {},
     "output_type": "execute_result"
    }
   ],
   "source": [
    "d = {'name':[],'statistic':[],'pvalue':[]}\n",
    "for col in df_mm.columns:\n",
    "    d['name'].append(col)\n",
    "    stat, p = normaltest(df_mm[col])\n",
    "    d['statistic'].append(stat)\n",
    "    d['pvalue'].append(p)\n",
    "pd.DataFrame(data=d)"
   ]
  },
  {
   "cell_type": "markdown",
   "metadata": {},
   "source": [
    "### 3.\tSkewed distributions and outliers\n"
   ]
  },
  {
   "cell_type": "markdown",
   "metadata": {},
   "source": [
    "**2.\tSquare root transformation**"
   ]
  },
  {
   "cell_type": "code",
   "execution_count": 114,
   "metadata": {},
   "outputs": [],
   "source": [
    "housing_imp[\"Distance\"] = np.sqrt(housing_num[\"Distance\"])"
   ]
  },
  {
   "cell_type": "markdown",
   "metadata": {},
   "source": [
    "**3.\tLog-transformation**"
   ]
  },
  {
   "cell_type": "code",
   "execution_count": 115,
   "metadata": {
    "collapsed": true
   },
   "outputs": [],
   "source": [
    "housing_imp[\"Price\"] = np.log(housing_num[\"Price\"])"
   ]
  },
  {
   "cell_type": "markdown",
   "metadata": {},
   "source": [
    "## Categorical features"
   ]
  },
  {
   "cell_type": "code",
   "execution_count": 126,
   "metadata": {},
   "outputs": [],
   "source": [
    "housing_cat = housing_imp[[col for col in housing_imp.columns if (np.dtype(housing_imp[col])==object) and col!='Date']]"
   ]
  },
  {
   "cell_type": "markdown",
   "metadata": {},
   "source": [
    "### 1.\tData overview "
   ]
  },
  {
   "cell_type": "code",
   "execution_count": 128,
   "metadata": {},
   "outputs": [
    {
     "data": {
      "text/html": [
       "<div>\n",
       "<style scoped>\n",
       "    .dataframe tbody tr th:only-of-type {\n",
       "        vertical-align: middle;\n",
       "    }\n",
       "\n",
       "    .dataframe tbody tr th {\n",
       "        vertical-align: top;\n",
       "    }\n",
       "\n",
       "    .dataframe thead th {\n",
       "        text-align: right;\n",
       "    }\n",
       "</style>\n",
       "<table border=\"1\" class=\"dataframe\">\n",
       "  <thead>\n",
       "    <tr style=\"text-align: right;\">\n",
       "      <th></th>\n",
       "      <th>Suburb</th>\n",
       "      <th>Address</th>\n",
       "      <th>Type</th>\n",
       "      <th>Method</th>\n",
       "      <th>SellerG</th>\n",
       "      <th>CouncilArea</th>\n",
       "      <th>Regionname</th>\n",
       "    </tr>\n",
       "  </thead>\n",
       "  <tbody>\n",
       "    <tr>\n",
       "      <th>cardinality</th>\n",
       "      <td>344.0</td>\n",
       "      <td>26682.00</td>\n",
       "      <td>3.00</td>\n",
       "      <td>5.0</td>\n",
       "      <td>349.00</td>\n",
       "      <td>33.00</td>\n",
       "      <td>9.00</td>\n",
       "    </tr>\n",
       "    <tr>\n",
       "      <th>equal share</th>\n",
       "      <td>79.0</td>\n",
       "      <td>1.02</td>\n",
       "      <td>9058.33</td>\n",
       "      <td>5435.0</td>\n",
       "      <td>77.87</td>\n",
       "      <td>823.48</td>\n",
       "      <td>3019.44</td>\n",
       "    </tr>\n",
       "  </tbody>\n",
       "</table>\n",
       "</div>"
      ],
      "text/plain": [
       "             Suburb   Address     Type  Method  SellerG  CouncilArea  \\\n",
       "cardinality   344.0  26682.00     3.00     5.0   349.00        33.00   \n",
       "equal share    79.0      1.02  9058.33  5435.0    77.87       823.48   \n",
       "\n",
       "             Regionname  \n",
       "cardinality        9.00  \n",
       "equal share     3019.44  "
      ]
     },
     "execution_count": 128,
     "metadata": {},
     "output_type": "execute_result"
    }
   ],
   "source": [
    "cardinality = pd.DataFrame(data={col : {'cardinality': len(housing_cat[col].unique()),\n",
    "                                        'equal share': round(housing_cat.shape[0]/len(housing_cat[col].unique()),2)} \n",
    "                                 for col in housing_cat.columns}) \n",
    "\n",
    "cardinality"
   ]
  },
  {
   "cell_type": "code",
   "execution_count": 131,
   "metadata": {
    "scrolled": false
   },
   "outputs": [
    {
     "data": {
      "image/png": "[encoded data removed]",
      "text/plain": [
       "<Figure size 360x360 with 1 Axes>"
      ]
     },
     "metadata": {
      "needs_background": "light"
     },
     "output_type": "display_data"
    },
    {
     "data": {
      "image/png": "[encoded data removed]",
      "text/plain": [
       "<Figure size 360x360 with 1 Axes>"
      ]
     },
     "metadata": {
      "needs_background": "light"
     },
     "output_type": "display_data"
    },
    {
     "data": {
      "image/png": "[encoded data removed]",
      "text/plain": [
       "<Figure size 360x360 with 1 Axes>"
      ]
     },
     "metadata": {
      "needs_background": "light"
     },
     "output_type": "display_data"
    },
    {
     "data": {
      "image/png": "[encoded data removed]",
      "text/plain": [
       "<Figure size 360x360 with 1 Axes>"
      ]
     },
     "metadata": {
      "needs_background": "light"
     },
     "output_type": "display_data"
    },
    {
     "data": {
      "image/png": "[encoded data removed]",
      "text/plain": [
       "<Figure size 360x360 with 1 Axes>"
      ]
     },
     "metadata": {
      "needs_background": "light"
     },
     "output_type": "display_data"
    },
    {
     "data": {
      "image/png": "[encoded data removed]",
      "text/plain": [
       "<Figure size 360x360 with 1 Axes>"
      ]
     },
     "metadata": {
      "needs_background": "light"
     },
     "output_type": "display_data"
    }
   ],
   "source": [
    "temp = housing_cat.drop(axis=1, columns=['Address'])\n",
    "\n",
    "for col in temp.columns:\n",
    "    sns.catplot(x=col , kind=\"count\", palette=\"pastel\", data=temp)\n",
    "    plt.show();\n"
   ]
  },
  {
   "cell_type": "markdown",
   "metadata": {},
   "source": [
    "### 2.\tHigh Cardinality features"
   ]
  },
  {
   "cell_type": "code",
   "execution_count": null,
   "metadata": {
    "collapsed": true
   },
   "outputs": [],
   "source": [
    "col = 'CouncilArea'\n",
    "cat_dist = df3.groupby(col).size().sort_values(ascending=False)\n",
    "to_group = cat_dist.where(cat_dist<=500).dropna().index\n",
    "housing_nan[col] = [val if val not in to_group else 'other' for val in housing_nan[col]]"
   ]
  },
  {
   "cell_type": "markdown",
   "metadata": {},
   "source": [
    "### 3.\tData encoding"
   ]
  },
  {
   "cell_type": "code",
   "execution_count": 156,
   "metadata": {
    "collapsed": true
   },
   "outputs": [],
   "source": [
    "dummy = pd.get_dummies(df3['Type'])\n",
    "housing_nan = pd.concat([housing_nan.drop(columns=['Type']), dummy])"
   ]
  }
 ],
 "metadata": {
  "kernelspec": {
   "display_name": "EDAenv",
   "language": "python",
   "name": "edaenv"
  },
  "language_info": {
   "codemirror_mode": {
    "name": "ipython",
    "version": 3
   },
   "file_extension": ".py",
   "mimetype": "text/x-python",
   "name": "python",
   "nbconvert_exporter": "python",
   "pygments_lexer": "ipython3",
   "version": "3.8.9"
  }
 },
 "nbformat": 4,
 "nbformat_minor": 2
}
