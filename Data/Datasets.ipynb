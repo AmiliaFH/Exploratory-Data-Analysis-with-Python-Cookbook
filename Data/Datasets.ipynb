{
 "cells": [
  {
   "cell_type": "code",
   "execution_count": 1,
   "metadata": {
    "collapsed": true
   },
   "outputs": [],
   "source": [
    "import pandas as pd\n",
    "import numpy as np\n",
    "import random"
   ]
  },
  {
   "cell_type": "markdown",
   "metadata": {},
   "source": [
    "## Dataset index \n",
    "\n",
    "[1. Melburne Housing Dataset](## 1. Melburne Housing Dataset)"
   ]
  },
  {
   "cell_type": "markdown",
   "metadata": {},
   "source": [
    "## 1. Melburne Housing Dataset\n",
    "\n",
    "\n",
    "\n",
    "Originally created by *Tony Pino*\n",
    "\n",
    "License CC BY-NC-SA 4.0\n",
    "\n",
    "Source: https://www.kaggle.com/anthonypino/melbourne-housing-market\n",
    "\n",
    "Downloaded date 2022/1/30\n",
    "\n",
    "### Data dictionary\n",
    "\n",
    "**Suburb**: Suburb name\n",
    "\n",
    "**Address**: Address\n",
    "\n",
    "**Rooms**: Number of rooms\n",
    "\n",
    "**Price**: Price in Australian dollars\n",
    "\n",
    "**Method**:\n",
    "S - property sold;\n",
    "SP - property sold prior;\n",
    "PI - property passed in;\n",
    "PN - sold prior not disclosed;\n",
    "SN - sold not disclosed;\n",
    "NB - no bid;\n",
    "VB - vendor bid;\n",
    "W - withdrawn prior to auction;\n",
    "SA - sold after auction;\n",
    "SS - sold after auction price not disclosed.\n",
    "N/A - price or highest bid not available.\n",
    "\n",
    "**Type**:\n",
    "br - bedroom(s);\n",
    "h - house,cottage,villa, semi,terrace;\n",
    "u - unit, duplex;\n",
    "t - townhouse;\n",
    "dev site - development site;\n",
    "o res - other residential.\n",
    "\n",
    "**SellerG**: Real Estate Agent\n",
    "\n",
    "**Date**: Date sold\n",
    "\n",
    "**Distance**: Distance from CBD in Kilometres\n",
    "\n",
    "**Regionname**: General Region (West, North West, North, North east …etc)\n",
    "\n",
    "**Propertycount**: Number of properties that exist in the suburb.\n",
    "\n",
    "**Bedroom2** : Scraped # of Bedrooms (from different source)\n",
    "\n",
    "**Bathroom**: Number of Bathrooms\n",
    "\n",
    "**Car**: Number of carspots\n",
    "\n",
    "**Landsize**: Land Size in Metres\n",
    "\n",
    "**BuildingArea**: Building Size in Metres\n",
    "\n",
    "**YearBuilt**: Year the house was built\n",
    "\n",
    "**CouncilArea**: Governing council for the area\n",
    "\n",
    "**Lattitude**: Self explanitory\n",
    "\n",
    "**Longtitude**: Self explanitory"
   ]
  },
  {
   "cell_type": "markdown",
   "metadata": {},
   "source": [
    "### Modifications for the purposes of this book"
   ]
  },
  {
   "cell_type": "code",
   "execution_count": 2,
   "metadata": {
    "collapsed": true
   },
   "outputs": [],
   "source": [
    "df = pd.read_csv(\"Melbourne_housing_FULL.csv\")\n",
    "df.loc[random.sample(range(df.shape[0]), round(df.shape[0]*0.07)), 'Type'] = np.nan\n",
    "df.loc[random.sample(range(df.shape[0]), round(df.shape[0]*0.04)), 'CouncilArea'] = np.nan\n",
    "df.loc[random.sample(range(df.shape[0]), round(df.shape[0]*0.008)),'Postcode'] = np.nan\n",
    "\n",
    "df.replace({'Bathroom':np.nan,'Postcode':np.nan,'Bedroom2': np.nan, 'Price':np.nan, 'Type':np.nan}, \n",
    "           {'Bathroom': 'notavailable', 'Postcode':'missing', 'Bedroom2': '-', 'Price':-9999, 'Type':'UNK'},\n",
    "           inplace=True)\n",
    "df.to_csv(\"Melbourne_housing_EDA.csv\", index=False)"
   ]
  },
  {
   "cell_type": "markdown",
   "metadata": {
    "collapsed": true
   },
   "source": [
    "### Usage of this dataset in the book\n",
    "\n",
    "In **Chapter 3** the Melbourne housing dataset `Melbourne_housing_EDA.csv` is used to tackle missing values with the prescribed approaches. The imputed dataset is saved as `Melbourne_housing_imp.csv` and further used in **Chapter 4**."
   ]
  },
  {
   "cell_type": "code",
   "execution_count": null,
   "metadata": {
    "collapsed": true
   },
   "outputs": [],
   "source": []
  }
 ],
 "metadata": {
  "kernelspec": {
   "display_name": "Python 3",
   "language": "python",
   "name": "python3"
  },
  "language_info": {
   "codemirror_mode": {
    "name": "ipython",
    "version": 3
   },
   "file_extension": ".py",
   "mimetype": "text/x-python",
   "name": "python",
   "nbconvert_exporter": "python",
   "pygments_lexer": "ipython3",
   "version": "3.6.2"
  }
 },
 "nbformat": 4,
 "nbformat_minor": 2
}
